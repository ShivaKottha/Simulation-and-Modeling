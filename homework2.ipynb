{
  "nbformat": 4,
  "nbformat_minor": 0,
  "metadata": {
    "colab": {
      "provenance": [],
      "include_colab_link": true
    },
    "kernelspec": {
      "name": "python3",
      "display_name": "Python 3.9.5 64-bit"
    },
    "language_info": {
      "name": "python",
      "version": "3.9.5",
      "mimetype": "text/x-python",
      "codemirror_mode": {
        "name": "ipython",
        "version": 3
      },
      "pygments_lexer": "ipython3",
      "nbconvert_exporter": "python",
      "file_extension": ".py"
    },
    "interpreter": {
      "hash": "c98e05168fa63a48dbdd2a4274fef77cd63f6368d59e4488c10e2ff7243bb6c6"
    }
  },
  "cells": [
    {
      "cell_type": "markdown",
      "metadata": {
        "id": "view-in-github",
        "colab_type": "text"
      },
      "source": [
        "<a href=\"https://colab.research.google.com/github/ShivaKottha/Simulation-and-Modeling/blob/main/homework2.ipynb\" target=\"_parent\"><img src=\"https://colab.research.google.com/assets/colab-badge.svg\" alt=\"Open In Colab\"/></a>"
      ]
    },
    {
      "cell_type": "markdown",
      "source": [
        "\n",
        "1. Use for loop to generate 3 random integers between 100 and 999 which is divisible by 5. \n",
        "\n"
      ],
      "metadata": {
        "id": "nF0Ps19ADEAg"
      }
    },
    {
      "cell_type": "code",
      "execution_count": null,
      "source": [
        "import random\n",
        "\n",
        "div_by_5 = [] \n",
        "\n",
        "for _ in range(3):\n",
        "    number = random.randint(100, 999)\n",
        "    while number % 5 != 0: \n",
        "        number = random.randint(100, 999)\n",
        "    div_by_5.append(number)\n",
        "\n",
        "print(div_by_5)"
      ],
      "outputs": [
        {
          "output_type": "stream",
          "name": "stdout",
          "text": [
            "[945, 185, 320]\n"
          ]
        }
      ],
      "metadata": {
        "colab": {
          "base_uri": "https://localhost:8080/"
        },
        "id": "TioIKiMBDPGR",
        "outputId": "18980c56-e66c-41af-e1da-e656cedd14d6"
      }
    },
    {
      "cell_type": "markdown",
      "source": [
        "2.The Logistic distribution is used in Extreme Value problems where it can act as a mixture of Gumbel distributions. Draw samples from a logistic distribution and plot it. loc=10, scale=1 and size =1000. "
      ],
      "metadata": {
        "id": "hyXLw2juDQBR"
      }
    },
    {
      "cell_type": "code",
      "execution_count": null,
      "source": [
        "import numpy as np\n",
        "import matplotlib.pyplot as plt\n",
        "\n",
        "\n",
        "loc = 10\n",
        "scale = 1\n",
        "size = 1000\n",
        "\n",
        "samples = np.random.logistic(loc, scale, size)\n",
        "\n",
        "plt.hist(samples, bins=30, density=True, alpha=0.7)\n",
        "plt.xlabel('Value')\n",
        "plt.ylabel('Probability Density')\n",
        "plt.title('Samples from a Logistic Distribution')\n",
        "plt.grid(True)\n",
        "plt.show()"
      ],
      "outputs": [
        {
          "output_type": "display_data",
          "data": {
            "text/plain": [
              "<Figure size 640x480 with 1 Axes>"
            ],
            "image/png": "[encoded data removed]"
          },
          "metadata": {}
        }
      ],
      "metadata": {
        "colab": {
          "base_uri": "https://localhost:8080/",
          "height": 472
        },
        "id": "t2yhyP6RDXMI",
        "outputId": "49d346e5-4f26-44f8-a844-c6b193b26247"
      }
    },
    {
      "cell_type": "markdown",
      "source": [
        "3.\tGenerate 6 digit random secure OTP."
      ],
      "metadata": {
        "id": "0jAtQnvcFn1g"
      }
    },
    {
      "cell_type": "code",
      "execution_count": null,
      "source": [
        "import secrets\n",
        "import string\n",
        "\n",
        "alphabet = string.digits\n",
        "otp_length = 6\n",
        "\n",
        "otp = ''.join(secrets.choice(alphabet) for _ in range(otp_length))\n",
        "\n",
        "print(\"Generating 6 digit random OTP \\nSecure random OTP is:\", otp)"
      ],
      "outputs": [
        {
          "output_type": "stream",
          "name": "stdout",
          "text": [
            "Generating 6 digit random OTP \n",
            "Secure random OTP is: 649497\n"
          ]
        }
      ],
      "metadata": {
        "colab": {
          "base_uri": "https://localhost:8080/"
        },
        "id": "8pnAxvQyGLN7",
        "outputId": "c939b9c5-96ca-41da-fbde-e2f9337686c9"
      }
    },
    {
      "cell_type": "markdown",
      "source": [
        "4.\tPick a random character from a given string such as \"Simulation and modeling\""
      ],
      "metadata": {
        "id": "sRajmF4JGc9C"
      }
    },
    {
      "cell_type": "code",
      "execution_count": null,
      "source": [
        "import random\n",
        "\n",
        "string = \"Simulation and modeling\"\n",
        "random_character = random.choice(string)\n",
        "\n",
        "print(\"Randomly picked character:\", random_character)"
      ],
      "outputs": [
        {
          "output_type": "stream",
          "name": "stdout",
          "text": [
            "Randomly picked character: t\n"
          ]
        }
      ],
      "metadata": {
        "colab": {
          "base_uri": "https://localhost:8080/"
        },
        "id": "7dquFCrHGeGx",
        "outputId": "02177d82-ad84-4f14-d904-57c269493165"
      }
    },
    {
      "cell_type": "markdown",
      "source": [
        "5. Import string and random module. Generate a string with 5 characters with UPPER case and lower case letters only. No numbers and a special symbol."
      ],
      "metadata": {
        "id": "LWo72SxJGxOd"
      }
    },
    {
      "cell_type": "code",
      "execution_count": null,
      "source": [
        "import string\n",
        "import random\n",
        "\n",
        "characters = string.ascii_letters\n",
        "random_string = ''.join(random.choice(characters) for _ in range(5))\n",
        "\n",
        "print(\"Random string:\", random_string)\n"
      ],
      "outputs": [
        {
          "output_type": "stream",
          "name": "stdout",
          "text": [
            "Random string: tZWXD\n"
          ]
        }
      ],
      "metadata": {
        "colab": {
          "base_uri": "https://localhost:8080/"
        },
        "id": "rf1xMCM8HPhw",
        "outputId": "f016aaf0-2239-4b8e-c7e8-f2fa799a07f8"
      }
    },
    {
      "cell_type": "markdown",
      "source": [
        "6. Import string and random module. Generate a Password with length 10 which contains 2 upper case letters, 1 digit, and 1 special symbol. "
      ],
      "metadata": {
        "id": "7yXtRN6WHYiu"
      }
    },
    {
      "cell_type": "code",
      "execution_count": null,
      "source": [
        "import string\n",
        "import random\n",
        "\n",
        "def generate_password():\n",
        "    uppercase_letters = string.ascii_uppercase\n",
        "    lowercase_letters = string.ascii_lowercase\n",
        "    digits = string.digits\n",
        "    special_symbols = string.punctuation\n",
        "\n",
        "    password = random.choices(uppercase_letters, k=2)\n",
        "\n",
        "    password.extend(random.choices(digits, k=1))\n",
        "\n",
        "    password.extend(random.choices(special_symbols, k=1))\n",
        "\n",
        "    remaining_length = 10 - len(password)\n",
        "    password.extend(random.choices(uppercase_letters + lowercase_letters + digits + special_symbols, k=remaining_length))\n",
        "\n",
        "    random.shuffle(password)\n",
        "\n",
        "    password = ''.join(password)\n",
        "\n",
        "    return password\n",
        "\n",
        "password = generate_password()\n",
        "\n",
        "print(\"Generated Password:\", password)\n"
      ],
      "outputs": [
        {
          "output_type": "stream",
          "name": "stdout",
          "text": [
            "Generated Password: H%W6`*dR3,\n"
          ]
        }
      ],
      "metadata": {
        "colab": {
          "base_uri": "https://localhost:8080/"
        },
        "id": "-3L50bqjHsKO",
        "outputId": "aa4fe2ae-0741-49c4-a4c3-98f27000d49d"
      }
    },
    {
      "cell_type": "markdown",
      "source": [
        "7. First generate evenly spaced values within 0 to 9. Give it new shape 3x3. Then randomly permute it."
      ],
      "metadata": {
        "id": "b5m0Kv-aIONE"
      }
    },
    {
      "cell_type": "code",
      "execution_count": null,
      "source": [
        "import numpy as np\n",
        "\n",
        "values = np.linspace(0, 9, 9, dtype=int)\n",
        "\n",
        "matrix = np.reshape(values, (3, 3))\n",
        "\n",
        "permuted_matrix = np.random.permutation(matrix)\n",
        "\n",
        "print(\"Original Matrix:\")\n",
        "print(matrix)\n",
        "print(\"\\nPermuted Matrix:\")\n",
        "print(permuted_matrix)\n"
      ],
      "outputs": [
        {
          "output_type": "stream",
          "name": "stdout",
          "text": [
            "Original Matrix:\n",
            "[[0 1 2]\n",
            " [3 4 5]\n",
            " [6 7 9]]\n",
            "\n",
            "Permuted Matrix:\n",
            "[[3 4 5]\n",
            " [0 1 2]\n",
            " [6 7 9]]\n"
          ]
        }
      ],
      "metadata": {
        "colab": {
          "base_uri": "https://localhost:8080/"
        },
        "id": "lA-_-8aNIYWZ",
        "outputId": "437de3fd-68d1-4ead-e097-744624fb4f6e"
      }
    },
    {
      "cell_type": "markdown",
      "source": [
        "8. Generate random secure token of 64 bytes and random URL"
      ],
      "metadata": {
        "id": "A_qKoz0cJs56"
      }
    },
    {
      "cell_type": "code",
      "execution_count": null,
      "source": [
        "import secrets\n",
        "import string\n",
        "\n",
        "secure_token = secrets.token_hex(128)\n",
        "\n",
        "characters = string.ascii_letters + string.digits\n",
        "url_length = 10\n",
        "random_url = ''.join(secrets.choice(characters) for _ in range(url_length))\n",
        "\n",
        "print(\"Secure Token:\", secure_token)\n",
        "print(\"Random URL:\", random_url)\n"
      ],
      "outputs": [
        {
          "output_type": "stream",
          "name": "stdout",
          "text": [
            "Secure Token: 551109e6e9cdace656e523eda7342ad9505280105ca94c0bf1e9ff1a4f5f04d0714496e92dc18e60953d344948e57259653bb31f4a4eb6529332a274bc7a83faf6b38e69038ceb0130acb22d1ffba3caa408e72090b504d5c0a5eb24e8e61fd9c478aa0c3b109707c68d634fa6fd797e1ae43fb5371bf504f0e5c08934e048ff\n",
            "Random URL: 9nbvzZO5wP\n"
          ]
        }
      ],
      "metadata": {
        "colab": {
          "base_uri": "https://localhost:8080/"
        },
        "id": "i5Yl9imaKULT",
        "outputId": "4dd12e6c-3a90-459c-da4e-3906fff171f4"
      }
    },
    {
      "cell_type": "markdown",
      "source": [
        "9. Pick a random number from 1 to 6. Do it in such a way that every time you must get the same random output number(no hard coding numbers). do this 5 times."
      ],
      "metadata": {
        "id": "BbqxqvkAKoco"
      }
    },
    {
      "cell_type": "code",
      "execution_count": 5,
      "source": [
        "import random\n",
        "\n",
        "dice = [1, 2, 3, 4, 5, 6]\n",
        "print(\"Randomly selecting same number\")\n",
        "for i in range(5):\n",
        "    random.seed(25)\n",
        "    print(random.choice(dice))"
      ],
      "outputs": [
        {
          "output_type": "stream",
          "name": "stdout",
          "text": [
            "Randomly selecting same number\n",
            "4\n",
            "4\n",
            "4\n",
            "4\n",
            "4\n"
          ]
        }
      ],
      "metadata": {
        "colab": {
          "base_uri": "https://localhost:8080/"
        },
        "id": "GLkxztDWK0ZE",
        "outputId": "c93e4a15-3613-4683-b65b-f200ed101ea7"
      }
    },
    {
      "cell_type": "markdown",
      "source": [
        "10. Write an interactive Python program to play a “guess the  number” game. The computer should think of a random integer between  1 and 20 and the user (player) has to try to guess the number within six  attempts. The program should let the player know if the guess is too high or  too low. \n"
      ],
      "metadata": {
        "id": "nKU3_whrK193"
      }
    },
    {
      "cell_type": "code",
      "execution_count": null,
      "source": [
        "import random\n",
        "\n",
        "secret_number = random.randint(1, 20)\n",
        "\n",
        "print(\"Welcome to the 'Guess the Number' game!\")\n",
        "print(\"I'm thinking of a number between 1 and 20.\")\n",
        "print(\"You have 6 attempts to guess it.\")\n",
        "\n",
        "attempts = 0\n",
        "max_attempts = 6\n",
        "\n",
        "while attempts < max_attempts:\n",
        "    guess = int(input(\"Enter your guess: \"))\n",
        "\n",
        "    if guess < secret_number:\n",
        "        print(\"Too low!\")\n",
        "    elif guess > secret_number:\n",
        "        print(\"Too high!\")\n",
        "    else:\n",
        "        print(\"Congratulations! You guessed the number correctly!\")\n",
        "        break\n",
        "\n",
        "    attempts += 1\n",
        "\n",
        "if attempts == max_attempts:\n",
        "    print(\"Game over! You ran out of attempts.\")\n",
        "    print(\"The secret number was\", secret_number)\n"
      ],
      "outputs": [
        {
          "output_type": "stream",
          "name": "stdout",
          "text": [
            "Welcome to the 'Guess the Number' game!\n",
            "I'm thinking of a number between 1 and 20.\n",
            "You have 6 attempts to guess it.\n",
            "Enter your guess: 12\n",
            "Too high!\n",
            "Enter your guess: 5\n",
            "Too low!\n",
            "Enter your guess: 9\n",
            "Too high!\n",
            "Enter your guess: 6\n",
            "Too low!\n",
            "Enter your guess: 8\n",
            "Congratulations! You guessed the number correctly!\n"
          ]
        }
      ],
      "metadata": {
        "colab": {
          "base_uri": "https://localhost:8080/"
        },
        "id": "ZcGQDFpSNX6r",
        "outputId": "c414cdf4-77e1-4242-bca7-d6af01eb018c"
      }
    }
  ]
}