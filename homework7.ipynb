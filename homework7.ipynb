{
  "nbformat": 4,
  "nbformat_minor": 0,
  "metadata": {
    "colab": {
      "provenance": [],
      "authorship_tag": "ABX9TyOaFBqc1SNifvrkBg/KleTP",
      "include_colab_link": true
    },
    "kernelspec": {
      "name": "python3",
      "display_name": "Python 3"
    },
    "language_info": {
      "name": "python"
    }
  },
  "cells": [
    {
      "cell_type": "markdown",
      "metadata": {
        "id": "view-in-github",
        "colab_type": "text"
      },
      "source": [
        "<a href=\"https://colab.research.google.com/github/ShivaKottha/Simulation-and-Modeling/blob/main/homework7.ipynb\" target=\"_parent\"><img src=\"https://colab.research.google.com/assets/colab-badge.svg\" alt=\"Open In Colab\"/></a>"
      ]
    },
    {
      "cell_type": "markdown",
      "source": [
        "Use SciPy Optimization to solve:\n",
        "\n",
        "Someone wants to build a cardboard box and maximize the volume by adjusting the length (L), width (W), and height (H) of the box and the same time the surface area of the box (area of 6 sides) stays no more than 10.\n",
        "\n",
        "Print optimal L, W, H, Volume and surface area."
      ],
      "metadata": {
        "id": "_BWxawWkBDry"
      }
    },
    {
      "cell_type": "code",
      "execution_count": 1,
      "metadata": {
        "colab": {
          "base_uri": "https://localhost:8080/"
        },
        "id": "RFMWRPWf-wVj",
        "outputId": "ec8f515e-5513-4811-8e77-f3ba907b71d1"
      },
      "outputs": [
        {
          "output_type": "stream",
          "name": "stdout",
          "text": [
            "Optimization terminated successfully    (Exit mode 0)\n",
            "            Current function value: -2.151657414467269\n",
            "            Iterations: 4\n",
            "            Function evaluations: 17\n",
            "            Gradient evaluations: 4\n"
          ]
        }
      ],
      "source": [
        "import numpy as np\n",
        "from scipy.optimize import minimize\n",
        "\n",
        "# Define the function to calculate the volume of a box\n",
        "def box_volume(x):\n",
        "    length, width, height = x\n",
        "    return length * width * height\n",
        "\n",
        "# Define the function to calculate the surface area of a box\n",
        "def surface_area(x):\n",
        "    length, width, height = x\n",
        "    return 2 * (length * width + length * height + width * height)\n",
        "\n",
        "# Define the objective function to maximize the box volume (negate since minimize is used)\n",
        "def objective(x):\n",
        "    return -box_volume(x)\n",
        "\n",
        "# Define the constraint function to limit the box surface area to be less than or equal to 10\n",
        "def constraint(x):\n",
        "    return 10 - surface_area(x)\n",
        "\n",
        "# Set the initial guesses for the box dimensions\n",
        "length_guess = 1\n",
        "width_guess = 1\n",
        "height_guess = 1\n",
        "guesses = np.array([length_guess, width_guess, height_guess])\n",
        "\n",
        "# Set the constraint as an inequality\n",
        "constraint_args = {'type': 'ineq', 'fun': constraint}\n",
        "\n",
        "# Use the minimize function to find the optimal box dimensions that maximize volume while satisfying the constraint\n",
        "answer = minimize(objective, guesses, constraints=constraint_args, method='SLSQP', options={'disp': True})\n"
      ]
    },
    {
      "cell_type": "code",
      "source": [
        "# Extract the optimal dimensions from the result\n",
        "length_optimal, width_optimal, height_optimal = answer.x\n",
        "\n",
        "# Print the results\n",
        "print(\"Optimal Length:\", length_optimal)\n",
        "print(\"Optimal Width:\", width_optimal)\n",
        "print(\"Optimal Height:\", height_optimal)\n",
        "\n",
        "# Calculate Volume and Surface Area using the optimal dimensions\n",
        "volume_optimal = box_volume([length_optimal, width_optimal, height_optimal])\n",
        "surface_area_optimal = surface_area([length_optimal, width_optimal, height_optimal])\n",
        "\n",
        "print(\"Optimal Volume:\", volume_optimal)\n",
        "print(\"Optimal Surface Area:\", surface_area_optimal)"
      ],
      "metadata": {
        "colab": {
          "base_uri": "https://localhost:8080/"
        },
        "id": "bwp-ZVLCy3Lh",
        "outputId": "45621c12-9a1f-44cd-ed0d-cb14ae8e8c3f"
      },
      "execution_count": 2,
      "outputs": [
        {
          "output_type": "stream",
          "name": "stdout",
          "text": [
            "Optimal Length: 1.2909944727867015\n",
            "Optimal Width: 1.290994455352175\n",
            "Optimal Height: 1.2909944180130968\n",
            "Optimal Volume: 2.151657414467269\n",
            "Optimal Surface Area: 9.999999999713689\n"
          ]
        }
      ]
    }
  ]
}