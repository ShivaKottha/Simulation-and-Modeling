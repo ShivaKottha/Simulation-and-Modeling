{
  "nbformat": 4,
  "nbformat_minor": 0,
  "metadata": {
    "colab": {
      "provenance": [],
      "include_colab_link": true
    },
    "kernelspec": {
      "name": "python3",
      "display_name": "Python 3"
    },
    "language_info": {
      "name": "python"
    }
  },
  "cells": [
    {
      "cell_type": "markdown",
      "metadata": {
        "id": "view-in-github",
        "colab_type": "text"
      },
      "source": [
        "<a href=\"https://colab.research.google.com/github/ShivaKottha/Simulation-and-Modeling/blob/main/homework5.ipynb\" target=\"_parent\"><img src=\"https://colab.research.google.com/assets/colab-badge.svg\" alt=\"Open In Colab\"/></a>"
      ]
    },
    {
      "cell_type": "markdown",
      "source": [
        "The states\n",
        "\n"
      ],
      "metadata": {
        "id": "AAjZ68kzZRL_"
      }
    },
    {
      "cell_type": "code",
      "source": [
        "import numpy as np\n",
        "\n",
        "Activity_state = dict(zip(range(3), ['rest', 'sweeties', 'exercises']))\n",
        "print(Activity_state)\n"
      ],
      "metadata": {
        "colab": {
          "base_uri": "https://localhost:8080/"
        },
        "id": "JgoI6XQ7Zf9_",
        "outputId": "b2a090db-d420-4c7a-9096-e280a6a62cdd"
      },
      "execution_count": 1,
      "outputs": [
        {
          "output_type": "stream",
          "name": "stdout",
          "text": [
            "{0: 'rest', 1: 'sweeties', 2: 'exercises'}\n"
          ]
        }
      ]
    },
    {
      "cell_type": "markdown",
      "source": [
        "The following describes the given state diagram's transition matrix:"
      ],
      "metadata": {
        "id": "KZJNRDqmZr-B"
      }
    },
    {
      "cell_type": "code",
      "source": [
        "import numpy as np\n",
        "\n",
        "transition_matrix = np.array([[0.2, 0.2, 0.6],\n",
        "                             [0.2, 0.1, 0.7],\n",
        "                             [0.1, 0.3, 0.6]])\n",
        "\n",
        "print(transition_matrix)\n"
      ],
      "metadata": {
        "colab": {
          "base_uri": "https://localhost:8080/"
        },
        "id": "rI88iW8OaNvf",
        "outputId": "3b061262-6ef3-4cc8-8d71-a1e23eb1361c"
      },
      "execution_count": 2,
      "outputs": [
        {
          "output_type": "stream",
          "name": "stdout",
          "text": [
            "[[0.2 0.2 0.6]\n",
            " [0.2 0.1 0.7]\n",
            " [0.1 0.3 0.6]]\n"
          ]
        }
      ]
    },
    {
      "cell_type": "markdown",
      "source": [
        "1. The starting state is Rest. Calculate the probability of possible activity on the 15th day.\n",
        "2. What about the state and probability after 10000 days?"
      ],
      "metadata": {
        "id": "qkERDSuUc24u"
      }
    },
    {
      "cell_type": "code",
      "source": [
        "import numpy as np\n",
        "\n",
        "# Transition matrix\n",
        "transition_matrix = np.array([[0.2, 0.2, 0.6],\n",
        "                             [0.2, 0.1, 0.7],\n",
        "                             [0.1, 0.3, 0.6]])\n",
        "\n",
        "# Starting state vector\n",
        "start_state = np.array([1, 0, 0])  # Rest is the starting state\n",
        "\n",
        "# Define the number of days\n",
        "num_days = 15\n",
        "\n",
        "# Calculate the probability after num_days days\n",
        "prob_num_days = np.linalg.matrix_power(transition_matrix.T, num_days) @ start_state\n",
        "\n",
        "# Print the probability after num_days days\n",
        "print(f\"Probability of activities on the {num_days}th day:\")\n",
        "activities = ['Rest', 'Sweeties', 'Exercises']\n",
        "for activity, prob in zip(activities, prob_num_days):\n",
        "    print(f\"{activity}: {prob}\")\n",
        "\n",
        "# Define the number of days\n",
        "num_days = 10000\n",
        "\n",
        "# Calculate the probability after num_days days\n",
        "prob_num_days = np.linalg.matrix_power(transition_matrix.T, num_days) @ start_state\n",
        "\n",
        "# Print the probability after num_days days\n",
        "print(f\"\\nProbability of activities after {num_days} days:\")\n",
        "for activity, prob in zip(activities, prob_num_days):\n",
        "    print(f\"{activity}: {prob}\")\n"
      ],
      "metadata": {
        "colab": {
          "base_uri": "https://localhost:8080/"
        },
        "id": "JDSaj1p7c7Az",
        "outputId": "03a8057a-08b6-467a-8b65-19a3265108ce"
      },
      "execution_count": 3,
      "outputs": [
        {
          "output_type": "stream",
          "name": "stdout",
          "text": [
            "Probability of activities on the 15th day:\n",
            "Rest: 0.13761467889913792\n",
            "Sweeties: 0.23853211009159786\n",
            "Exercises: 0.6238532110092637\n",
            "\n",
            "Probability of activities after 10000 days:\n",
            "Rest: 0.1376146788990357\n",
            "Sweeties: 0.23853211009166178\n",
            "Exercises: 0.6238532110089616\n"
          ]
        }
      ]
    },
    {
      "cell_type": "markdown",
      "source": [
        "3. What do you observe from the above two?"
      ],
      "metadata": {
        "id": "9oQm3LOxej8X"
      }
    },
    {
      "cell_type": "markdown",
      "source": [
        "\n",
        "Over an extended period, such as 10,000 days, a noticeable trend emerges: the probabilities of different outcomes tend to remain consistent. This observation suggests that the distribution has reached a stable state. Strikingly, the probabilities after 10,000 days closely resemble those after only 15 days. As the number of days increases, the probability values for each state gradually converge. Notably, when the number of trials is small, the model tends to assign disproportionately high odds to the \"rest\" and \"sweets\" categories. However, as the number of trials rises, the probabilities settle at approximately 13.76% for \"rest,\" 23.85% for \"sweets,\" and 62.39% for \"exercises.\""
      ],
      "metadata": {
        "id": "UXuc93m5eoI5"
      }
    }
  ]
}