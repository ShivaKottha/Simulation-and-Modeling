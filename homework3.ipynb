{
  "metadata": {
    "kernelspec": {
      "display_name": "Python 3",
      "language": "python",
      "name": "python3"
    },
    "language_info": {
      "name": "python",
      "version": "3.6.4",
      "mimetype": "text/x-python",
      "codemirror_mode": {
        "name": "ipython",
        "version": 3
      },
      "pygments_lexer": "ipython3",
      "nbconvert_exporter": "python",
      "file_extension": ".py"
    },
    "colab": {
      "provenance": [],
      "include_colab_link": true
    }
  },
  "nbformat_minor": 0,
  "nbformat": 4,
  "cells": [
    {
      "cell_type": "markdown",
      "metadata": {
        "id": "view-in-github",
        "colab_type": "text"
      },
      "source": [
        "<a href=\"https://colab.research.google.com/github/ShivaKottha/Simulation-and-Modeling/blob/main/homework3.ipynb\" target=\"_parent\"><img src=\"https://colab.research.google.com/assets/colab-badge.svg\" alt=\"Open In Colab\"/></a>"
      ]
    },
    {
      "cell_type": "markdown",
      "source": [
        "## The Uniform Distribution"
      ],
      "metadata": {
        "id": "s26AyhYpWDq5"
      }
    },
    {
      "cell_type": "markdown",
      "source": [
        "Load libraries. We use the scipy.stats library."
      ],
      "metadata": {
        "id": "zpBI2awMW6Oc"
      }
    },
    {
      "cell_type": "code",
      "source": [
        "import scipy.stats as stats\n"
      ],
      "metadata": {
        "trusted": true,
        "id": "grtbaBqpWDq6"
      },
      "execution_count": null,
      "outputs": []
    },
    {
      "cell_type": "markdown",
      "source": [
        "Use scipy library to create a randam uniform distribution data (100000 numbers from 0 to 10)"
      ],
      "metadata": {
        "id": "oByCe-f4WabL"
      }
    },
    {
      "cell_type": "code",
      "source": [
        "import scipy.stats as stats\n",
        "import numpy as np\n",
        "import matplotlib.pyplot as plt\n",
        "np.random.seed(42)\n",
        "uniform_dist = stats.uniform(loc=0, scale=10)\n",
        "data = uniform_dist.rvs(size=100000)"
      ],
      "metadata": {
        "trusted": true,
        "id": "bZDkJE3EWDq8"
      },
      "execution_count": null,
      "outputs": []
    },
    {
      "cell_type": "markdown",
      "source": [
        "Plot the following density distribution.\n",
        "You can use figsize=(9,9), xlim=(-1,11)"
      ],
      "metadata": {
        "id": "VDFCdnvxXKBO"
      }
    },
    {
      "cell_type": "code",
      "source": [
        "#run the above code before\n",
        "fig, ax = plt.subplots(figsize=(9, 9))\n",
        "ax.hist(data, bins=100, density=True, alpha=0.7)\n",
        "ax.set_xlim(-1, 11)\n",
        "plt.xlabel('Value')\n",
        "plt.ylabel('Density')\n",
        "plt.title('Random Uniform Distribution')\n",
        "plt.show()"
      ],
      "metadata": {
        "trusted": true,
        "colab": {
          "base_uri": "https://localhost:8080/",
          "height": 795
        },
        "id": "sv6O_1QTWDq8",
        "outputId": "9b8c9ddd-7230-400b-c7ef-22792debdb13"
      },
      "execution_count": null,
      "outputs": [
        {
          "output_type": "display_data",
          "data": {
            "text/plain": [
              "<Figure size 900x900 with 1 Axes>"
            ],
            "image/png": "[encoded data removed]"
          },
          "metadata": {}
        }
      ]
    },
    {
      "cell_type": "markdown",
      "source": [
        "\n",
        "\n",
        "Check scipy libraries and use useful functions."
      ],
      "metadata": {
        "id": "fTrcokY6WDq9"
      }
    },
    {
      "cell_type": "markdown",
      "source": [
        "cdf (cumulative distribution function) gives you the area under the distribution's density curve to the left of a certain value on the x axis. Calculate cdf with x axis from 0 to 2.5."
      ],
      "metadata": {
        "id": "zksEWTRzYZRW"
      }
    },
    {
      "cell_type": "code",
      "source": [
        "import scipy.stats as stats\n",
        "x = 2.5\n",
        "cdf_value = stats.uniform.cdf(x, loc=0, scale=10)\n",
        "print(cdf_value)"
      ],
      "metadata": {
        "trusted": true,
        "colab": {
          "base_uri": "https://localhost:8080/"
        },
        "id": "h9rCwTP9WDq-",
        "outputId": "10796525-c198-4243-bbe9-f0b4fac72f9f"
      },
      "execution_count": null,
      "outputs": [
        {
          "output_type": "stream",
          "name": "stdout",
          "text": [
            "0.25\n"
          ]
        }
      ]
    },
    {
      "cell_type": "markdown",
      "source": [
        "ppf() is the inverse of cdf(): it returns the x axis cutoff value (quantile) associated with a given probability. Caculate the cutoff value for propabality with 40%."
      ],
      "metadata": {
        "id": "YSH29ZK1WDq_"
      }
    },
    {
      "cell_type": "code",
      "source": [
        "import scipy.stats as stats\n",
        "distribution = stats.uniform(loc=0, scale=10)\n",
        "probability = 0.4\n",
        "cutoff_value = distribution.ppf(probability)\n",
        "print(cutoff_value)"
      ],
      "metadata": {
        "trusted": true,
        "colab": {
          "base_uri": "https://localhost:8080/"
        },
        "id": "0Qdov9KjWDq_",
        "outputId": "badf3eb4-6945-4a15-9ec9-1c9c499f5f27"
      },
      "execution_count": null,
      "outputs": [
        {
          "output_type": "stream",
          "name": "stdout",
          "text": [
            "4.0\n"
          ]
        }
      ]
    },
    {
      "cell_type": "markdown",
      "source": [
        "Demonstrate for uniform distribution, x values within the range will have the same probability desity.  x values outside the range have a probability density of 0. The output is similar as the following."
      ],
      "metadata": {
        "id": "TCqkfCI5WDrA"
      }
    },
    {
      "cell_type": "code",
      "source": [
        "import scipy.stats as stats\n",
        "loc = 0\n",
        "scale = 10\n",
        "x_values = [-1, 2, 5, 8, 11, 14]\n",
        "distribution = stats.uniform(loc, scale - loc)\n",
        "for x in x_values:\n",
        "    density = distribution.pdf(x)\n",
        "    print(\"Density at x value\", x)\n",
        "    print(density)"
      ],
      "metadata": {
        "trusted": true,
        "colab": {
          "base_uri": "https://localhost:8080/"
        },
        "id": "KosCGaV6WDrA",
        "outputId": "a935fea5-e34e-4be4-98f8-0897d2ab0bfb"
      },
      "execution_count": null,
      "outputs": [
        {
          "output_type": "stream",
          "name": "stdout",
          "text": [
            "Density at x value -1\n",
            "0.0\n",
            "Density at x value 2\n",
            "0.1\n",
            "Density at x value 5\n",
            "0.1\n",
            "Density at x value 8\n",
            "0.1\n",
            "Density at x value 11\n",
            "0.0\n",
            "Density at x value 14\n",
            "0.0\n"
          ]
        }
      ]
    },
    {
      "cell_type": "markdown",
      "source": [
        "Probability distribution functions in scipy also support median(), mean(), var() and std()."
      ],
      "metadata": {
        "id": "eDG_C5DLWDrA"
      }
    },
    {
      "cell_type": "markdown",
      "source": [
        "## The Normal Distribution"
      ],
      "metadata": {
        "id": "dzU_xIDZWDrD"
      }
    },
    {
      "cell_type": "markdown",
      "source": [
        "\n",
        "Use scipy's norm to have normal distribution (see the graph below) .  The normal distribution has default vaues of  mean of 0 and standard deviation of 1. Investigate what percentage of data generated by a default normal distribution is below -1. What percentage of data generated is above 1 and what percentage lies between -1 and 1. Print the three percentages. The output is similar as the following."
      ],
      "metadata": {
        "id": "4tlmrT-6WDrE"
      }
    },
    {
      "cell_type": "code",
      "source": [
        "import scipy.stats as stats\n",
        "mean = 0\n",
        "std_dev = 1\n",
        "distribution = stats.norm(loc=mean, scale=std_dev)\n",
        "percentage_below_minus1 = distribution.cdf(-1)\n",
        "percentage_above_1 = 1 - distribution.cdf(1)\n",
        "percentage_between_minus1_and_1 = distribution.cdf(1) - distribution.cdf(-1)\n",
        "print(\"Percentage below -1:\", percentage_below_minus1)\n",
        "print(\"Percentage above 1:\", percentage_above_1)\n",
        "print(\"Percentage between -1 and 1:\", percentage_between_minus1_and_1)"
      ],
      "metadata": {
        "trusted": true,
        "colab": {
          "base_uri": "https://localhost:8080/"
        },
        "id": "4OrSDB0_WDrE",
        "outputId": "ec91c9ca-a512-4144-d6fa-078c38992556"
      },
      "execution_count": null,
      "outputs": [
        {
          "output_type": "stream",
          "name": "stdout",
          "text": [
            "Percentage below -1: 0.15865525393145707\n",
            "Percentage above 1: 0.15865525393145707\n",
            "Percentage between -1 and 1: 0.6826894921370859\n"
          ]
        }
      ]
    },
    {
      "cell_type": "markdown",
      "source": [
        "Plotting is not required. The codes will be included in the solution. The image below shows the bell shape normal distribution."
      ],
      "metadata": {
        "id": "wpzcmComWDrE"
      }
    },
    {
      "cell_type": "code",
      "source": [
        "\n"
      ],
      "metadata": {
        "trusted": true,
        "id": "aAhigYlmWDrE"
      },
      "execution_count": null,
      "outputs": []
    },
    {
      "cell_type": "markdown",
      "source": [
        "\n",
        "print the ppf for 2.5% cutoff and 97.5% cutoff. The output is similar as the following"
      ],
      "metadata": {
        "id": "y3_jL-q7WDrF"
      }
    },
    {
      "cell_type": "code",
      "source": [
        "import scipy.stats as stats\n",
        "mean = 0\n",
        "std_dev = 1\n",
        "distribution = stats.norm(loc=mean, scale=std_dev)\n",
        "ppf_2_5 = distribution.ppf(0.025)\n",
        "ppf_97_5 = distribution.ppf(0.975)\n",
        "print(\"ppf for 2.5% cutoff:\", ppf_2_5)\n",
        "print(\"ppf for 97.5% cutoff:\", ppf_97_5)"
      ],
      "metadata": {
        "trusted": true,
        "colab": {
          "base_uri": "https://localhost:8080/"
        },
        "id": "6z018RRmWDrF",
        "outputId": "b19a5a87-6f65-417d-b4e2-04933c35c1bd"
      },
      "execution_count": null,
      "outputs": [
        {
          "output_type": "stream",
          "name": "stdout",
          "text": [
            "ppf for 2.5% cutoff: -1.9599639845400545\n",
            "ppf for 97.5% cutoff: 1.959963984540054\n"
          ]
        }
      ]
    },
    {
      "cell_type": "markdown",
      "source": [
        "The quantile output above confirms that roughly 5% of the data lies more than 2 standard deviations from the mean.\n"
      ],
      "metadata": {
        "id": "nV_a8hFzWDrF"
      }
    },
    {
      "cell_type": "markdown",
      "source": [
        "## The Binomial Distribution"
      ],
      "metadata": {
        "id": "jMRGOfRlWDrF"
      }
    },
    {
      "cell_type": "markdown",
      "source": [
        "We will use binomial distribution to model coin flips. The scipy name for the binomial is binom. Here we set the number of flips per trial to 10,  the number of trials to 10000, and success probability to 0.5.\n",
        "\n",
        "Create a random binomial distribution data \"fair_coin_flips\" in the code line below."
      ],
      "metadata": {
        "id": "M_3gvuROWDrF"
      }
    },
    {
      "cell_type": "code",
      "source": [
        "import pandas as pd\n",
        "import matplotlib.pyplot as plt\n",
        "num_flips_per_trial = 10\n",
        "num_trials = 10000\n",
        "success_prob = 0.5\n",
        "fair_coin_flips = stats.binom.rvs(n=num_flips_per_trial, p=success_prob, size=num_trials)\n",
        "print(pd.crosstab(index=\"counts\", columns=fair_coin_flips))\n",
        "pd.DataFrame(fair_coin_flips).hist(range=(-0.5, 10.5), bins=11)\n",
        "plt.xlabel(\"Number of Successes\")\n",
        "plt.ylabel(\"Frequency\")\n",
        "plt.title(\"Binomial Distribution (p=0.5)\")\n",
        "plt.show()"
      ],
      "metadata": {
        "id": "mkJxZbGIxizh",
        "colab": {
          "base_uri": "https://localhost:8080/",
          "height": 524
        },
        "outputId": "4bae3470-0230-4d6d-cce7-fd0156aa8741"
      },
      "execution_count": null,
      "outputs": [
        {
          "output_type": "stream",
          "name": "stdout",
          "text": [
            "col_0   0    1    2     3     4     5     6     7    8   9   10\n",
            "row_0                                                          \n",
            "counts  10  110  439  1161  2024  2504  2025  1215  418  87   7\n"
          ]
        },
        {
          "output_type": "display_data",
          "data": {
            "text/plain": [
              "<Figure size 640x480 with 1 Axes>"
            ],
            "image/png": "[encoded data removed]"
          },
          "metadata": {}
        }
      ]
    },
    {
      "cell_type": "markdown",
      "source": [
        "The histogram above shows us that a binomial distribution with a 50% probability of success is roughly symmetric, with the most likely outcomes lying at the center.\n",
        "Change the success rate to 0.8, implement the codes similar as above to show the distribution won't be symmetric:"
      ],
      "metadata": {
        "id": "6NOTE2BIWDrG"
      }
    },
    {
      "cell_type": "code",
      "source": [
        "import pandas as pd\n",
        "import matplotlib.pyplot as plt\n",
        "from scipy import stats\n",
        "num_flips_per_trial = 10\n",
        "num_trials = 10000\n",
        "success_prob = 0.8\n",
        "fair_coin_flips = stats.binom.rvs(n=num_flips_per_trial, p=success_prob, size=num_trials)\n",
        "print(pd.crosstab(index=\"counts\", columns=fair_coin_flips))\n",
        "pd.DataFrame(fair_coin_flips).hist(range=(-0.5, 10.5), bins=11)\n",
        "plt.xlabel(\"Number of Successes\")\n",
        "plt.ylabel(\"Frequency\")\n",
        "plt.title(\"Binomial Distribution (p=0.8)\")\n",
        "plt.show()"
      ],
      "metadata": {
        "trusted": true,
        "colab": {
          "base_uri": "https://localhost:8080/",
          "height": 524
        },
        "id": "ayZSW5zmWDrG",
        "outputId": "7f5dd7db-abab-43bd-909b-aa0d42212dc0"
      },
      "execution_count": null,
      "outputs": [
        {
          "output_type": "stream",
          "name": "stdout",
          "text": [
            "col_0   3   4    5    6     7     8     9     10\n",
            "row_0                                           \n",
            "counts  10  59  254  907  2060  2958  2659  1093\n"
          ]
        },
        {
          "output_type": "display_data",
          "data": {
            "text/plain": [
              "<Figure size 640x480 with 1 Axes>"
            ],
            "image/png": "[encoded data removed]"
          },
          "metadata": {}
        }
      ]
    },
    {
      "cell_type": "markdown",
      "source": [
        "Continue from above binomial distribution(success rate=0.8), give the codes to get the probability of achieving 5 heads or less with 10 flips."
      ],
      "metadata": {
        "id": "ybMhEMhOWDrG"
      }
    },
    {
      "cell_type": "code",
      "source": [
        "import scipy.stats as stats\n",
        "num_flips_per_trial = 10\n",
        "success_prob = 0.8\n",
        "prob_5_heads_or_less = stats.binom.cdf(5, num_flips_per_trial, success_prob)\n",
        "print(prob_5_heads_or_less)"
      ],
      "metadata": {
        "trusted": true,
        "colab": {
          "base_uri": "https://localhost:8080/"
        },
        "id": "Fhm0ScKWWDrG",
        "outputId": "62da3703-d810-4c93-99ac-9e3229effda0"
      },
      "execution_count": null,
      "outputs": [
        {
          "output_type": "stream",
          "name": "stdout",
          "text": [
            "0.03279349759999997\n"
          ]
        }
      ]
    },
    {
      "cell_type": "markdown",
      "source": [
        "Continue from above binomial distribution(success rate=0.8), give the codes to get the probability of achieving 9 heads or more with 10 flips."
      ],
      "metadata": {
        "id": "EdSbcxw62Y9x"
      }
    },
    {
      "cell_type": "code",
      "source": [
        "import scipy.stats as stats\n",
        "num_flips_per_trial = 10\n",
        "success_prob = 0.8\n",
        "prob_9_heads_or_more = 1 - stats.binom.cdf(8, num_flips_per_trial, success_prob)\n",
        "print(prob_9_heads_or_more)"
      ],
      "metadata": {
        "trusted": true,
        "colab": {
          "base_uri": "https://localhost:8080/"
        },
        "id": "HBxh9yKQWDrG",
        "outputId": "a7fdc0f2-717a-4ea6-adad-6cf129b526bf"
      },
      "execution_count": null,
      "outputs": [
        {
          "output_type": "stream",
          "name": "stdout",
          "text": [
            "0.37580963840000015\n"
          ]
        }
      ]
    },
    {
      "cell_type": "markdown",
      "source": [
        "For continuous probability density functions, you use pdf() to check the probability density at a given x value. For discrete distributions like the binomial, use stats.distribution.pmf() (probability mass function) to check the mass (proportion of observations) at given number of successes k.\n",
        "Write codes to give the probability density at 5 heads with success rate of 0.5 of 10 flips."
      ],
      "metadata": {
        "id": "muBEhjHyWDrH"
      }
    },
    {
      "cell_type": "code",
      "source": [
        "import scipy.stats as stats\n",
        "num_flips_per_trial = 10\n",
        "success_prob = 0.5\n",
        "prob_5_heads_density = stats.binom.pmf(5, num_flips_per_trial, success_prob)\n",
        "print(prob_5_heads_density)"
      ],
      "metadata": {
        "trusted": true,
        "colab": {
          "base_uri": "https://localhost:8080/"
        },
        "id": "pn7DjhdIWDrH",
        "outputId": "7e48fac6-0cf6-4583-c341-a424f623b9b6"
      },
      "execution_count": null,
      "outputs": [
        {
          "output_type": "stream",
          "name": "stdout",
          "text": [
            "0.24609375000000003\n"
          ]
        }
      ]
    },
    {
      "cell_type": "markdown",
      "source": [
        "What about the probability density at 8 heads with success rate of 0.8 of 10 flips?"
      ],
      "metadata": {
        "id": "yygZPFEa8TEG"
      }
    },
    {
      "cell_type": "code",
      "source": [
        "import scipy.stats as stats\n",
        "num_flips_per_trial = 10\n",
        "success_prob = 0.8\n",
        "prob_8_heads_density = stats.binom.pmf(8, num_flips_per_trial, success_prob)\n",
        "print(prob_8_heads_density)"
      ],
      "metadata": {
        "trusted": true,
        "colab": {
          "base_uri": "https://localhost:8080/"
        },
        "id": "XNCfMBj6WDrH",
        "outputId": "e403ec7f-deb4-4fd1-d042-1faea2408ca3"
      },
      "execution_count": null,
      "outputs": [
        {
          "output_type": "stream",
          "name": "stdout",
          "text": [
            "0.30198988799999993\n"
          ]
        }
      ]
    },
    {
      "cell_type": "markdown",
      "source": [
        "## Wrap Up"
      ],
      "metadata": {
        "id": "LKqkiSsnWDrJ"
      }
    },
    {
      "cell_type": "markdown",
      "source": [
        "Extra information of Exponential Distributions and Poisson Distributions will be given in the solution.\n",
        "\n",
        "\n",
        "Python's scipy library contains functions that make it easy to work with a wide range of probability distributions, including [many that we did not discuss](https://docs.scipy.org/doc/scipy/reference/stats.html) in this lesson. Probability distribution functions are useful for generating random data, modeling random events and aiding with statistical tests and analysis.\n"
      ],
      "metadata": {
        "id": "HEVLHyABWDrK"
      }
    }
  ]
}