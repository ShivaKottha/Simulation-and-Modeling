{
  "cells": [
    {
      "cell_type": "markdown",
      "metadata": {
        "id": "view-in-github",
        "colab_type": "text"
      },
      "source": [
        "<a href=\"https://colab.research.google.com/github/ShivaKottha/Simulation-and-Modeling/blob/main/homework1_solutions.ipynb\" target=\"_parent\"><img src=\"https://colab.research.google.com/assets/colab-badge.svg\" alt=\"Open In Colab\"/></a>"
      ]
    },
    {
      "cell_type": "markdown",
      "source": [
        "##**Use sympy to solve the following questions**"
      ],
      "metadata": {
        "id": "Km9dmiwlH3fS"
      }
    },
    {
      "cell_type": "code",
      "source": [
        "import sympy as sp\n",
        "from sympy import symbols, exp\n",
        "import scipy.integrate as spi\n",
        "from sympy.functions import exp_polar\n",
        "import math\n",
        "import numpy as np\n",
        "import matplotlib.pyplot as plt"
      ],
      "metadata": {
        "id": "zV4cxxkqGFbc"
      },
      "execution_count": 1,
      "outputs": []
    },
    {
      "cell_type": "markdown",
      "metadata": {
        "id": "MZjBN_HdrL3w"
      },
      "source": [
        "\n",
        "**1. Solve the quadratic function $x^2+2x-8=0$**"
      ]
    },
    {
      "cell_type": "code",
      "source": [
        "x = sp.symbols('x')\n",
        "equation = x**2 + 2*x - 8\n",
        "\n",
        "q = sp.solve(equation, x)\n",
        "\n",
        "print(q)"
      ],
      "metadata": {
        "colab": {
          "base_uri": "https://localhost:8080/"
        },
        "id": "5_szT_27FCSF",
        "outputId": "046a404e-7c3b-44f8-a112-2ec75ad972b8"
      },
      "execution_count": 2,
      "outputs": [
        {
          "output_type": "stream",
          "name": "stdout",
          "text": [
            "[-4, 2]\n"
          ]
        }
      ]
    },
    {
      "cell_type": "markdown",
      "metadata": {
        "id": "osWHgKk5t9MA"
      },
      "source": [
        "**2. What is the function f(x) which is equal to its\n",
        "derivative?**"
      ]
    },
    {
      "cell_type": "code",
      "execution_count": 3,
      "metadata": {
        "id": "MR8ijByJroeV",
        "colab": {
          "base_uri": "https://localhost:8080/"
        },
        "outputId": "b8d973b7-a4e1-4337-90fe-a69cc40a66a9"
      },
      "outputs": [
        {
          "output_type": "stream",
          "name": "stdout",
          "text": [
            "exp(x)\n"
          ]
        }
      ],
      "source": [
        "\n",
        "x = symbols('x')  \n",
        "function = exp(x)\n",
        "derivative = sp.diff(function, x)\n",
        "print(derivative)"
      ]
    },
    {
      "cell_type": "markdown",
      "metadata": {
        "id": "P2b7XyAD5qf1"
      },
      "source": [
        "**3. Compute the area under $f(x)=x^3$ from x=0 to x=1**"
      ]
    },
    {
      "cell_type": "code",
      "execution_count": 4,
      "metadata": {
        "id": "W1MNf_ptrqOK",
        "colab": {
          "base_uri": "https://localhost:8080/"
        },
        "outputId": "23e5fefb-c420-45f0-8992-55099f8d62b7"
      },
      "outputs": [
        {
          "output_type": "stream",
          "name": "stdout",
          "text": [
            "The area under the curve is: 0.25\n"
          ]
        }
      ],
      "source": [
        "\n",
        "\n",
        "def function(k):\n",
        "    return k**3\n",
        "\n",
        "x = 0  \n",
        "y = 1  \n",
        "\n",
        "area, error = spi.quad(function, x, y)\n",
        "\n",
        "# Print the result\n",
        "print(\"The area under the curve is:\", area)\n"
      ]
    },
    {
      "cell_type": "markdown",
      "metadata": {
        "id": "X0WDytOW_0Ds"
      },
      "source": [
        "**4. Calculate $\\displaystyle\\sum\\limits_{x=0}^\\infty \\left(\\frac{1}{x!}\\right)$**"
      ]
    },
    {
      "cell_type": "code",
      "execution_count": 5,
      "metadata": {
        "colab": {
          "base_uri": "https://localhost:8080/"
        },
        "id": "tklcMZdz5XdY",
        "outputId": "c1841531-69a9-4aa9-c53c-a445818cde46"
      },
      "outputs": [
        {
          "output_type": "stream",
          "name": "stdout",
          "text": [
            "2.7182815255731922\n"
          ]
        }
      ],
      "source": [
        "\n",
        "\n",
        "def summation(t):\n",
        "    exp = 0\n",
        "    for n in range(t):\n",
        "        exp += 1 / math.factorial(n)\n",
        "    return exp\n",
        "\n",
        "t = 10\n",
        "appx = summation(t)\n",
        "\n",
        "print(appx)"
      ]
    },
    {
      "cell_type": "markdown",
      "metadata": {
        "id": "GX1ZPTnTCtrV"
      },
      "source": [
        "**5. Calculate $\\lim_{n \\rightarrow \\infty}(1+\\frac{1}{n})^n$**"
      ]
    },
    {
      "cell_type": "code",
      "execution_count": 6,
      "metadata": {
        "colab": {
          "base_uri": "https://localhost:8080/"
        },
        "id": "1dyH1_G05XdZ",
        "outputId": "340f3cee-e436-4243-c5ce-e5250e157193"
      },
      "outputs": [
        {
          "output_type": "stream",
          "name": "stdout",
          "text": [
            "2.7182804690957534\n"
          ]
        }
      ],
      "source": [
        "\n",
        "\n",
        "def limits(t):\n",
        "    approx = (1 + 1/t)**t\n",
        "    return approx\n",
        "\n",
        "t = 1000000\n",
        "appxs = limits(t)\n",
        "\n",
        "print(appxs)\n"
      ]
    },
    {
      "cell_type": "markdown",
      "metadata": {
        "id": "PJ_WIHAZE9P2"
      },
      "source": [
        "**6. flips the matrix through its diagonal $\\begin{bmatrix}2&-3&-8&7 \\\\-2&-1&2&-7\\\\ 1&0&-3&6 \\end{bmatrix}$**"
      ]
    },
    {
      "cell_type": "code",
      "execution_count": 7,
      "metadata": {
        "id": "2VUQE4KJ5Xdb"
      },
      "outputs": [],
      "source": [
        "ori = np.array([[2, -3, -8, 7],\n",
        "                [-2, -1, 2, -7],\n",
        "                [1, 0, -3, 6]])\n",
        "# where the rows and columns of the original matrix are interchanged with respect to the main diagonal"
      ]
    },
    {
      "cell_type": "code",
      "execution_count": 8,
      "metadata": {
        "id": "DjIgeasrrw1d",
        "colab": {
          "base_uri": "https://localhost:8080/"
        },
        "outputId": "dda59c83-4c12-4c19-9af5-e1809b57df16"
      },
      "outputs": [
        {
          "output_type": "execute_result",
          "data": {
            "text/plain": [
              "array([[ 2, -2,  1],\n",
              "       [-3, -1,  0],\n",
              "       [-8,  2, -3],\n",
              "       [ 7, -7,  6]])"
            ]
          },
          "metadata": {},
          "execution_count": 8
        }
      ],
      "source": [
        "ori.transpose()"
      ]
    },
    {
      "cell_type": "markdown",
      "metadata": {
        "id": "rLTC_3INOPdj"
      },
      "source": [
        "**7. Row operations: We know the following matrix**"
      ]
    },
    {
      "cell_type": "code",
      "execution_count": 9,
      "metadata": {
        "colab": {
          "base_uri": "https://localhost:8080/"
        },
        "id": "iWzjfQn0Ox_a",
        "outputId": "40027704-9fd1-4d85-eca2-8f157a22a042"
      },
      "outputs": [
        {
          "output_type": "execute_result",
          "data": {
            "text/plain": [
              "array([[1., 0., 0.],\n",
              "       [0., 1., 0.],\n",
              "       [0., 0., 1.]])"
            ]
          },
          "metadata": {},
          "execution_count": 9
        }
      ],
      "source": [
        "M = np.eye(3)\n",
        "M"
      ]
    },
    {
      "cell_type": "markdown",
      "metadata": {
        "id": "v8pI_LiDjkBj"
      },
      "source": [
        "**Do matrix row operations to R2 ← R2 + 3R1. (update Row 2 to R2+3*R1). Print the matrix**"
      ]
    },
    {
      "cell_type": "code",
      "execution_count": 10,
      "metadata": {
        "id": "Gv1Q4pFE5Xdf"
      },
      "outputs": [],
      "source": [
        "for i,j in enumerate(M):\n",
        "    if i == 0:\n",
        "        hh = 3*j\n",
        "    if i == 1:\n",
        "        jj = j+hh\n",
        "M[1]=jj"
      ]
    },
    {
      "cell_type": "code",
      "execution_count": 11,
      "metadata": {
        "colab": {
          "base_uri": "https://localhost:8080/"
        },
        "id": "el-Qgv3-5Xdg",
        "outputId": "a73cfdde-bbd1-41b6-9fc4-b4426d0a8c33"
      },
      "outputs": [
        {
          "output_type": "execute_result",
          "data": {
            "text/plain": [
              "array([[1., 0., 0.],\n",
              "       [3., 1., 0.],\n",
              "       [0., 0., 1.]])"
            ]
          },
          "metadata": {},
          "execution_count": 11
        }
      ],
      "source": [
        "M"
      ]
    },
    {
      "cell_type": "markdown",
      "metadata": {
        "id": "lStKMbpWkZky"
      },
      "source": [
        "**8.Find determinant of M**"
      ]
    },
    {
      "cell_type": "code",
      "execution_count": 12,
      "metadata": {
        "colab": {
          "base_uri": "https://localhost:8080/"
        },
        "id": "c0kAm1eq5Xdh",
        "outputId": "e5ff53d6-d8e5-4bb1-d493-6674b4d48bfa"
      },
      "outputs": [
        {
          "output_type": "execute_result",
          "data": {
            "text/plain": [
              "array([[1., 0., 0.],\n",
              "       [3., 1., 0.],\n",
              "       [0., 0., 1.]])"
            ]
          },
          "metadata": {},
          "execution_count": 12
        }
      ],
      "source": [
        "M"
      ]
    },
    {
      "cell_type": "code",
      "execution_count": 13,
      "metadata": {
        "colab": {
          "base_uri": "https://localhost:8080/"
        },
        "id": "LBW9Oyvb5Xdi",
        "outputId": "4515a8aa-a357-493b-859b-8ceb42dab9f0"
      },
      "outputs": [
        {
          "output_type": "stream",
          "name": "stdout",
          "text": [
            "Numpy Matrix is:\n",
            "[[1. 0. 0.]\n",
            " [3. 1. 0.]\n",
            " [0. 0. 1.]]\n"
          ]
        }
      ],
      "source": [
        "\n",
        "  \n",
        "print(\"Numpy Matrix is:\")\n",
        "print(M)\n",
        "det = np.linalg.det(M)"
      ]
    },
    {
      "cell_type": "code",
      "execution_count": 14,
      "metadata": {
        "colab": {
          "base_uri": "https://localhost:8080/"
        },
        "id": "Q1xYIV4b5Xdj",
        "outputId": "270c53ad-284c-46cc-e1d2-39c976c35229"
      },
      "outputs": [
        {
          "output_type": "execute_result",
          "data": {
            "text/plain": [
              "1.0"
            ]
          },
          "metadata": {},
          "execution_count": 14
        }
      ],
      "source": [
        "det"
      ]
    },
    {
      "cell_type": "markdown",
      "metadata": {
        "id": "qaXra9fNlSDu"
      },
      "source": [
        "**9.Find the following matrix's eigenvalue and eigen vector**"
      ]
    },
    {
      "cell_type": "code",
      "execution_count": 15,
      "metadata": {
        "id": "W8cpvW7lljCv"
      },
      "outputs": [],
      "source": [
        "M =[[ 9, -2],\n",
        "[-2, 6]] "
      ]
    },
    {
      "cell_type": "code",
      "execution_count": 16,
      "metadata": {
        "colab": {
          "base_uri": "https://localhost:8080/"
        },
        "id": "xdvO9NRc5Xdl",
        "outputId": "8b44b762-221d-4b6c-c522-a082fa71ad48"
      },
      "outputs": [
        {
          "output_type": "stream",
          "name": "stdout",
          "text": [
            "Eigenvalues:\n",
            "10.0\n",
            "5.0\n",
            "\n",
            "Eigenvectors:\n",
            "Eigenvalue: 10.0\n",
            "Eigenvector: [ 0.89442719 -0.4472136 ]\n",
            "Eigenvalue: 5.0\n",
            "Eigenvector: [0.4472136  0.89442719]\n"
          ]
        }
      ],
      "source": [
        "\n",
        "\n",
        "e_values, e_vectors = np.linalg.eig(M)\n",
        "\n",
        "print(\"Eigenvalues:\")\n",
        "for eigenvalue in e_values:\n",
        "    print(eigenvalue)\n",
        "print(\"\\nEigenvectors:\")\n",
        "for i in range(len(e_vectors)):\n",
        "    print(\"Eigenvalue:\", e_values[i])\n",
        "    print(\"Eigenvector:\", e_vectors[:, i])\n"
      ]
    },
    {
      "cell_type": "markdown",
      "metadata": {
        "id": "T0NeZ4Hwo1Uy"
      },
      "source": [
        "**10. Implement the Predator-prey model in python**\n",
        "\n",
        "Suppose fish starts at 10 hundreds, bears starts at 1 hundred\n",
        "\n",
        "alpha = 1.1\n",
        "\n",
        "beta = 0.4\n",
        "\n",
        "delta = 0.1\n",
        "\n",
        "gamma = 0.4\n",
        "\n",
        "draw the plots(bear-time, fish-time)\n",
        "\n",
        "t = np.linspace(0,50,num=1000)\n"
      ]
    },
    {
      "cell_type": "code",
      "execution_count": 17,
      "metadata": {
        "colab": {
          "base_uri": "https://localhost:8080/",
          "height": 472
        },
        "id": "_wzMNsH15Xdn",
        "outputId": "79fdeabe-3f8f-4d1e-e1c0-5362d84f6abd"
      },
      "outputs": [
        {
          "output_type": "display_data",
          "data": {
            "text/plain": [
              "<Figure size 640x480 with 1 Axes>"
            ],
            "image/png": "[encoded data removed]"
          },
          "metadata": {}
        }
      ],
      "source": [
        "\n",
        "\n",
        "def predator_prey_model(alpha, beta, gamma, delta, fish_initial, bear_initial, time_steps):\n",
        "    fish_population = [fish_initial]\n",
        "    bear_population = [bear_initial]\n",
        "\n",
        "    for _ in range(time_steps):\n",
        "        prey_next = fish_population[-1] + alpha * fish_population[-1] - beta * fish_population[-1] * bear_population[-1]\n",
        "        predator_next = bear_population[-1] - gamma * bear_population[-1] + delta * fish_population[-1] * bear_population[-1]\n",
        "        \n",
        "        fish_population.append(prey_next)\n",
        "        bear_population.append(predator_next)\n",
        "\n",
        "    return fish_population, bear_population\n",
        "\n",
        "# Parameters\n",
        "alpha = 1.1\n",
        "beta = 0.4\n",
        "gamma = 0.4\n",
        "delta = 0.1\n",
        "fish_initial = 1000\n",
        "bear_initial = 100\n",
        "time_steps = 50\n",
        "\n",
        "fish, bear = predator_prey_model(alpha, beta, gamma, delta, fish_initial, bear_initial, time_steps)\n",
        "\n",
        "# Plotting\n",
        "time = range(time_steps + 1)\n",
        "plt.plot(time, fish, label='fish')\n",
        "plt.plot(time, bear, label='bear')\n",
        "plt.xlabel('Time')\n",
        "plt.ylabel('Population')\n",
        "plt.title('Predator-Prey Model')\n",
        "plt.legend()\n",
        "plt.show()\n"
      ]
    },
    {
      "cell_type": "code",
      "execution_count": 17,
      "metadata": {
        "id": "c15t0geB5Xdo"
      },
      "outputs": [],
      "source": []
    }
  ],
  "metadata": {
    "colab": {
      "provenance": [],
      "include_colab_link": true
    },
    "kernelspec": {
      "display_name": "Python 3 (ipykernel)",
      "language": "python",
      "name": "python3"
    },
    "language_info": {
      "codemirror_mode": {
        "name": "ipython",
        "version": 3
      },
      "file_extension": ".py",
      "mimetype": "text/x-python",
      "name": "python",
      "nbconvert_exporter": "python",
      "pygments_lexer": "ipython3",
      "version": "3.9.13"
    }
  },
  "nbformat": 4,
  "nbformat_minor": 0
}